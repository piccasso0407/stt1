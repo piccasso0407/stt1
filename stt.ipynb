{
 "cells": [
  {
   "cell_type": "code",
   "execution_count": 37,
   "id": "b70c9a1f-e7a4-472c-819c-825877c66d93",
   "metadata": {
    "scrolled": true
   },
   "outputs": [
    {
     "name": "stdout",
     "output_type": "stream",
     "text": [
      "프로그램 시작\n",
      "함수 시작\n",
      "MP3 파일 경로: C:\\Users\\CAWCAW\\강의자료\\음성인식\\data\\Sample\\01.원천데이터\\gen\\basi\\C14782\\U00001.wav\n",
      "MP3 파일 변환 시작\n",
      "MP3 파일 변환 완료\n",
      "음성 인식기 생성\n",
      "WAV 파일 읽기 시작\n",
      "WAV 파일 읽기 완료\n",
      "음성 인식 시작\n",
      "인식된 텍스트를 인식된_텍스트.txt에 저장했습니다.\n",
      "임시 WAV 파일 삭제 완료\n",
      "프로그램 종료\n"
     ]
    }
   ],
   "source": [
    "import os\n",
    "import speech_recognition as sr\n",
    "from pydub import AudioSegment\n",
    "from pydub.exceptions import CouldntDecodeError\n",
    "import pydub\n",
    "\n",
    "def mp3_to_text(mp3_file_path, output_text_file):\n",
    "    print(\"함수 시작\")\n",
    "    wav_file_path = \"temp.wav\"\n",
    "    try:\n",
    "        print(f\"MP3 파일 경로: {mp3_file_path}\")\n",
    "        print(\"MP3 파일 변환 시작\")\n",
    "        audio = AudioSegment.from_mp3(mp3_file_path)\n",
    "        audio.export(wav_file_path, format=\"wav\")\n",
    "        print(\"MP3 파일 변환 완료\")\n",
    "\n",
    "        print(\"음성 인식기 생성\")\n",
    "        recognizer = sr.Recognizer()\n",
    "\n",
    "        print(\"WAV 파일 읽기 시작\")\n",
    "        with sr.AudioFile(wav_file_path) as source:\n",
    "            audio_data = recognizer.record(source)\n",
    "        print(\"WAV 파일 읽기 완료\")\n",
    "\n",
    "        print(\"음성 인식 시작\")\n",
    "        text = recognizer.recognize_google(audio_data, language=\"ko-KR\")\n",
    "    \n",
    "\n",
    "        # 텍스트 파일로 저장\n",
    "        with open(output_text_file, 'w', encoding='utf-8') as file:\n",
    "            file.write(text)\n",
    "        print(f\"인식된 텍스트를 {output_text_file}에 저장했습니다.\")\n",
    "\n",
    "        return text\n",
    "\n",
    "    except FileNotFoundError as e:\n",
    "        print(f\"파일을 찾을 수 없습니다: {e}\")\n",
    "    except CouldntDecodeError as e:\n",
    "        print(f\"오디오 파일을 디코딩할 수 없습니다: {e}\")\n",
    "    except sr.UnknownValueError:\n",
    "        print(\"음성을 인식할 수 없습니다.\")\n",
    "    except sr.RequestError as e:\n",
    "        print(f\"Google 음성 인식 서비스 요청 오류: {e}\")\n",
    "    except Exception as e:\n",
    "        print(f\"예상치 못한 오류 발생: {type(e).__name__}, {str(e)}\")\n",
    "    finally:\n",
    "        if os.path.exists(wav_file_path):\n",
    "            os.remove(wav_file_path)\n",
    "            print(\"임시 WAV 파일 삭제 완료\")\n",
    "\n",
    "# 함수 실행\n",
    "print(\"프로그램 시작\")\n",
    "mp3_file_path = r\"C:\\Users\\CAWCAW\\강의자료\\음성인식\\data\\Sample\\01.원천데이터\\gen\\basi\\C14782\\U00001.wav\"  # 실제 MP3 파일 경로로 변경하세요\n",
    "output_text_file = \"인식된_텍스트.txt\"  # 출력될 텍스트 파일 이.름\n",
    "mp3_to_text(mp3_file_path, output_text_file)\n",
    "print(\"프로그램 종료\")\n",
    "\n"
   ]
  },
  {
   "cell_type": "code",
   "execution_count": null,
   "id": "3d376e6c-0530-4231-9543-39870d6af5bb",
   "metadata": {},
   "outputs": [],
   "source": []
  },
  {
   "cell_type": "code",
   "execution_count": null,
   "id": "79fe42ec-b31f-4dd4-8024-e2fbe819f549",
   "metadata": {},
   "outputs": [],
   "source": []
  }
 ],
 "metadata": {
  "kernelspec": {
   "display_name": "dl",
   "language": "python",
   "name": "dl"
  },
  "language_info": {
   "codemirror_mode": {
    "name": "ipython",
    "version": 3
   },
   "file_extension": ".py",
   "mimetype": "text/x-python",
   "name": "python",
   "nbconvert_exporter": "python",
   "pygments_lexer": "ipython3",
   "version": "3.12.3"
  }
 },
 "nbformat": 4,
 "nbformat_minor": 5
}
